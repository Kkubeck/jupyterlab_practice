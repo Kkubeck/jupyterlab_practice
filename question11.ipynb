{
 "cells": [
  {
   "cell_type": "markdown",
   "id": "34671c5e-23c1-4c63-8803-1098277a318b",
   "metadata": {},
   "source": [
    "# Kevin Kubeck\n",
    "Notebook for assignment 7"
   ]
  },
  {
   "cell_type": "code",
   "execution_count": 3,
   "id": "1adc883c-9217-430d-9760-73f16ba70a49",
   "metadata": {},
   "outputs": [
    {
     "name": "stdout",
     "output_type": "stream",
     "text": [
      "5.0\n"
     ]
    }
   ],
   "source": [
    "#for type hinting\n",
    "from typing import List\n",
    "\n",
    "#function for printing mean\n",
    "\n",
    "def compute_mean(numbers: List[int]) -> None:\n",
    "    print(sum(numbers) / len(numbers))\n",
    "    return \n",
    "\n",
    "compute_mean([2, 4, 6, 8])"
   ]
  },
  {
   "cell_type": "code",
   "execution_count": null,
   "id": "a01d7a49-166c-4fba-ae4e-04b81c6748d5",
   "metadata": {},
   "outputs": [],
   "source": []
  }
 ],
 "metadata": {
  "kernelspec": {
   "display_name": "Python [conda env:base] *",
   "language": "python",
   "name": "conda-base-py"
  },
  "language_info": {
   "codemirror_mode": {
    "name": "ipython",
    "version": 3
   },
   "file_extension": ".py",
   "mimetype": "text/x-python",
   "name": "python",
   "nbconvert_exporter": "python",
   "pygments_lexer": "ipython3",
   "version": "3.12.3"
  }
 },
 "nbformat": 4,
 "nbformat_minor": 5
}
