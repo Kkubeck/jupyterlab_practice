{
 "cells": [
  {
   "cell_type": "markdown",
   "id": "34671c5e-23c1-4c63-8803-1098277a318b",
   "metadata": {},
   "source": [
    "# Kevin Kubeck\n",
    "Notebook for assignment 7"
   ]
  }
 ],
 "metadata": {
  "kernelspec": {
   "display_name": "Python [conda env:base] *",
   "language": "python",
   "name": "conda-base-py"
  },
  "language_info": {
   "codemirror_mode": {
    "name": "ipython",
    "version": 3
   },
   "file_extension": ".py",
   "mimetype": "text/x-python",
   "name": "python",
   "nbconvert_exporter": "python",
   "pygments_lexer": "ipython3",
   "version": "3.12.3"
  }
 },
 "nbformat": 4,
 "nbformat_minor": 5
}
