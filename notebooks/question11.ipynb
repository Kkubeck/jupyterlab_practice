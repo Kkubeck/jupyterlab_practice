{
 "cells": [
  {
   "cell_type": "markdown",
   "id": "34671c5e-23c1-4c63-8803-1098277a318b",
   "metadata": {},
   "source": [
    "# Kevin Kubeck\n",
    "Notebook for assignment 7"
   ]
  },
  {
   "cell_type": "code",
   "execution_count": 1,
   "id": "1adc883c-9217-430d-9760-73f16ba70a49",
   "metadata": {},
   "outputs": [
    {
     "name": "stdout",
     "output_type": "stream",
     "text": [
      "5.0\n"
     ]
    }
   ],
   "source": [
    "#for type hinting\n",
    "from typing import List\n",
    "\n",
    "#function for printing mean\n",
    "\n",
    "def compute_mean(numbers: List[int]) -> None:\n",
    "    print(sum(numbers) / len(numbers))\n",
    "    return \n",
    "\n",
    "compute_mean([2, 4, 6, 8])"
   ]
  },
  {
   "cell_type": "markdown",
   "id": "862f38e2-1ea8-48cd-a7d3-5a8fbe88f6da",
   "metadata": {},
   "source": [
    "### Procedure for calculating mean with side effect of printing\n",
    " I think this cell fulfills what i think is the questions requirement to build a function that 'computes the mean of the values in a list and prints the results'.\n",
    " This is not the usual way i would code a function, which would typically involve returning the mean directly to a print function outside\n",
    " of the compute_mean() function. Here I used type hinting to make sure it was understood that the function returns None. \n",
    "\n",
    " #### Method\n",
    " Here we calculate the mean of a list of numbers by first taking the sum() of the list of numbers and then divide them by the number of elements in the list.\n",
    " Note that this script is very basic and does not include error checking for inputs that are not list, or list elements that are not numbers.\n",
    "\n",
    " The equation for the mean:"
   ]
  },
  {
   "cell_type": "markdown",
   "id": "c5c83429-12cf-4c6e-bd26-22ddce7ffc31",
   "metadata": {},
   "source": [
    "$$\n",
    " \\bar{x} = \\frac{x_1 + x_2 + \\cdots + x_n}{n} = \\frac{1}{n} \\left( \\sum_{i=1}^{n} x_i \\right)\n",
    "$$\n"
   ]
  }
 ],
 "metadata": {
  "kernelspec": {
   "display_name": "Python [conda env:base] *",
   "language": "python",
   "name": "conda-base-py"
  },
  "language_info": {
   "codemirror_mode": {
    "name": "ipython",
    "version": 3
   },
   "file_extension": ".py",
   "mimetype": "text/x-python",
   "name": "python",
   "nbconvert_exporter": "python",
   "pygments_lexer": "ipython3",
   "version": "3.12.3"
  }
 },
 "nbformat": 4,
 "nbformat_minor": 5
}
